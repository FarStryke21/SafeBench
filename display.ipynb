{
 "cells": [
  {
   "cell_type": "code",
   "execution_count": 1,
   "metadata": {},
   "outputs": [],
   "source": [
    "import pickle\n",
    "import pandas as pd"
   ]
  },
  {
   "cell_type": "markdown",
   "metadata": {},
   "source": [
    "## Question 1"
   ]
  },
  {
   "cell_type": "markdown",
   "metadata": {},
   "source": [
    "### A. YOLO Model"
   ]
  },
  {
   "cell_type": "code",
   "execution_count": 12,
   "metadata": {},
   "outputs": [
    {
     "name": "stdout",
     "output_type": "stream",
     "text": [
      "   mean_iou  mAP_evaluate  stdAP_evaluate\n",
      "0  0.747807      0.485362        0.375350\n",
      "1  0.837157      0.702872        0.317317\n",
      "2  0.878591      0.788699        0.311963\n",
      "3  0.872948      0.789422        0.290203\n"
     ]
    }
   ],
   "source": [
    "# c2 Question 1 Stop sign Yolo\n",
    "# load the data from pkl file\n",
    "with open('log\\\\exp\\\\Q1_stopsign_og_Yolo\\\\eval_results\\\\results.pkl', 'rb') as f:\n",
    "    data = pickle.load(f)\n",
    "\n",
    "# convert the data to pandas dataframe\n",
    "df = pd.DataFrame(data)\n",
    "print(df)"
   ]
  },
  {
   "cell_type": "code",
   "execution_count": 13,
   "metadata": {},
   "outputs": [
    {
     "name": "stdout",
     "output_type": "stream",
     "text": [
      "   mean_iou  mAP_evaluate  stdAP_evaluate\n",
      "0  0.580653      0.376966        0.278740\n",
      "1  0.610379      0.529526        0.199966\n",
      "2  0.850288      0.729941        0.333669\n",
      "3  0.842384      0.717358        0.312095\n"
     ]
    }
   ],
   "source": [
    "# c2 Question 1 Stop sign 1 Yolo\n",
    "# load the data from pkl file\n",
    "with open('log\\\\exp\\\\Q1_stopsign_1_Yolo\\\\eval_results\\\\results.pkl', 'rb') as f:\n",
    "    data = pickle.load(f)\n",
    "\n",
    "# convert the data to pandas dataframe\n",
    "df = pd.DataFrame(data)\n",
    "print(df)"
   ]
  },
  {
   "cell_type": "code",
   "execution_count": 15,
   "metadata": {},
   "outputs": [
    {
     "name": "stdout",
     "output_type": "stream",
     "text": [
      "   mean_iou  mAP_evaluate  stdAP_evaluate\n",
      "0  0.531654      0.368143        0.275532\n",
      "1  0.626392      0.549553        0.178625\n",
      "2  0.843756      0.718918        0.329150\n",
      "3  0.770554      0.664913        0.272914\n"
     ]
    }
   ],
   "source": [
    "# c2 Question 1 Stop sign 2 Yolo\n",
    "# load the data from pkl file\n",
    "with open('log\\\\exp\\\\Q1_stopsign_2_Yolo\\\\eval_results\\\\results.pkl', 'rb') as f:\n",
    "    data = pickle.load(f)\n",
    "\n",
    "# convert the data to pandas dataframe\n",
    "df = pd.DataFrame(data)\n",
    "print(df)"
   ]
  },
  {
   "cell_type": "markdown",
   "metadata": {},
   "source": [
    "### B. FRCNN"
   ]
  },
  {
   "cell_type": "code",
   "execution_count": 16,
   "metadata": {},
   "outputs": [
    {
     "name": "stdout",
     "output_type": "stream",
     "text": [
      "   mean_iou  mAP_evaluate  stdAP_evaluate\n",
      "0  0.364685      0.207429        0.156719\n",
      "1  0.429130      0.403049        0.112454\n",
      "2  0.608553      0.557508        0.168154\n",
      "3  0.581772      0.522839        0.168156\n"
     ]
    }
   ],
   "source": [
    "# c2 Question 1 Stop sign FRCNN\n",
    "# load the data from pkl file\n",
    "with open('log\\\\exp\\\\Q1_stopsign_og_FRCNN\\\\eval_results\\\\results.pkl', 'rb') as f:\n",
    "    data = pickle.load(f)\n",
    "\n",
    "# convert the data to pandas dataframe\n",
    "df = pd.DataFrame(data)\n",
    "print(df)"
   ]
  },
  {
   "cell_type": "code",
   "execution_count": 17,
   "metadata": {},
   "outputs": [
    {
     "name": "stdout",
     "output_type": "stream",
     "text": [
      "   mean_iou  mAP_evaluate  stdAP_evaluate\n",
      "0  0.331755      0.174533        0.163422\n",
      "1  0.396887      0.355946        0.122129\n",
      "2  0.442069      0.395739        0.141531\n",
      "3  0.401119      0.353856        0.141964\n"
     ]
    }
   ],
   "source": [
    "# c2 Question 1 Stop sign 1 FRCNN\n",
    "# load the data from pkl file\n",
    "with open('log\\\\exp\\\\Q1_stopsign_1_FRCNN\\\\eval_results\\\\results.pkl', 'rb') as f:\n",
    "    data = pickle.load(f)\n",
    "\n",
    "# convert the data to pandas dataframe\n",
    "df = pd.DataFrame(data)\n",
    "print(df)"
   ]
  },
  {
   "cell_type": "code",
   "execution_count": 18,
   "metadata": {},
   "outputs": [
    {
     "name": "stdout",
     "output_type": "stream",
     "text": [
      "   mean_iou  mAP_evaluate  stdAP_evaluate\n",
      "0  0.348696      0.184400        0.144876\n",
      "1  0.393145      0.328464        0.117536\n",
      "2  0.715579      0.573095        0.248651\n",
      "3  0.490226      0.397055        0.161647\n"
     ]
    }
   ],
   "source": [
    "# c2 Question 1 Stop sign FRCNN\n",
    "# load the data from pkl file\n",
    "with open('log\\\\exp\\\\Q1_stopsign_2_FRCNN\\\\eval_results\\\\results.pkl', 'rb') as f:\n",
    "    data = pickle.load(f)\n",
    "\n",
    "# convert the data to pandas dataframe\n",
    "df = pd.DataFrame(data)\n",
    "print(df)"
   ]
  },
  {
   "cell_type": "markdown",
   "metadata": {},
   "source": [
    "## Question 2"
   ]
  },
  {
   "cell_type": "markdown",
   "metadata": {},
   "source": []
  }
 ],
 "metadata": {
  "kernelspec": {
   "display_name": "base",
   "language": "python",
   "name": "python3"
  },
  "language_info": {
   "codemirror_mode": {
    "name": "ipython",
    "version": 3
   },
   "file_extension": ".py",
   "mimetype": "text/x-python",
   "name": "python",
   "nbconvert_exporter": "python",
   "pygments_lexer": "ipython3",
   "version": "3.9.13"
  }
 },
 "nbformat": 4,
 "nbformat_minor": 2
}
