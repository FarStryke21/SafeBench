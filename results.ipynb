{
 "cells": [
  {
   "cell_type": "code",
   "execution_count": 7,
   "metadata": {},
   "outputs": [],
   "source": [
    "import pickle\n",
    "import matplotlib.pyplot as plt\n",
    "import pandas as pd"
   ]
  },
  {
   "cell_type": "code",
   "execution_count": 8,
   "metadata": {},
   "outputs": [
    {
     "name": "stdout",
     "output_type": "stream",
     "text": [
      "    episode  episode_reward\n",
      "0        19      565.093468\n",
      "1        20      720.802626\n",
      "2        21      951.852522\n",
      "3        22      807.329413\n",
      "4        23      963.205101\n",
      "5        24      939.107619\n",
      "6        25     1064.164917\n",
      "7        26      717.810902\n",
      "8        27     1116.878904\n",
      "9        28     1201.656562\n",
      "10       29     1150.098391\n",
      "11       30     1060.681347\n",
      "12       31     1195.908431\n",
      "13       32      568.307572\n",
      "14       33      605.940485\n",
      "15       34     1223.350951\n",
      "16       35     1120.849851\n",
      "17       36     1172.096715\n",
      "18       37     1171.204509\n",
      "19       38     1111.528521\n",
      "20       39     1115.823219\n",
      "21       40     1152.430610\n",
      "22       41     1130.695603\n",
      "23       42     1125.258724\n",
      "24       43     1162.878069\n",
      "25       44     1113.214552\n",
      "26       45     1060.387127\n",
      "27       46     1223.032198\n",
      "28       47     1201.699307\n",
      "29       48     1264.237672\n"
     ]
    }
   ],
   "source": [
    "with open('log/exp/exp_sac_ordinary_seed_0/training_results/results.pkl', 'rb') as f:\n",
    "    data = pickle.load(f)\n",
    "\n",
    "# convert the data to pandas dataframe\n",
    "df = pd.DataFrame(data)\n",
    "print(df)"
   ]
  },
  {
   "cell_type": "code",
   "execution_count": null,
   "metadata": {},
   "outputs": [],
   "source": []
  },
  {
   "cell_type": "code",
   "execution_count": null,
   "metadata": {},
   "outputs": [],
   "source": []
  }
 ],
 "metadata": {
  "kernelspec": {
   "display_name": "base",
   "language": "python",
   "name": "python3"
  },
  "language_info": {
   "codemirror_mode": {
    "name": "ipython",
    "version": 3
   },
   "file_extension": ".py",
   "mimetype": "text/x-python",
   "name": "python",
   "nbconvert_exporter": "python",
   "pygments_lexer": "ipython3",
   "version": "3.9.19"
  }
 },
 "nbformat": 4,
 "nbformat_minor": 2
}
